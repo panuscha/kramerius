{
 "cells": [
  {
   "cell_type": "code",
   "execution_count": null,
   "metadata": {},
   "outputs": [],
   "source": [
    "import pandas as pd"
   ]
  },
  {
   "cell_type": "code",
   "execution_count": null,
   "metadata": {},
   "outputs": [],
   "source": [
    "\n",
    "# Table with number of translations for each country, language and decade\n",
    "df = pd.read_excel(\"kramerius_novels_stories.xlsx\")\n",
    "\n",
    "df['year published'] = df['year published'].apply(lambda x: int(x) if x.isnumeric()  else 0)\n",
    "\n",
    "\n",
    "\n",
    "df.plot.hist(column=['year published'])"
   ]
  }
 ],
 "metadata": {
  "kernelspec": {
   "display_name": "Python 3",
   "language": "python",
   "name": "python3"
  },
  "language_info": {
   "name": "python",
   "version": "3.11.4"
  }
 },
 "nbformat": 4,
 "nbformat_minor": 2
}
